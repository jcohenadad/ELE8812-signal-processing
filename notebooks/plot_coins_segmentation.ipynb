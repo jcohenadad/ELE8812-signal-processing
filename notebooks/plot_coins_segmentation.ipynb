{
  "nbformat": 4,
  "nbformat_minor": 0,
  "metadata": {
    "kernelspec": {
      "display_name": "Python 2",
      "language": "python",
      "name": "python2"
    },
    "language_info": {
      "codemirror_mode": {
        "name": "ipython",
        "version": 2
      },
      "file_extension": ".py",
      "mimetype": "text/x-python",
      "name": "python",
      "nbconvert_exporter": "python",
      "pygments_lexer": "ipython2",
      "version": "2.7.15"
    },
    "colab": {
      "name": "plot_coins_segmentation.ipynb",
      "provenance": [],
      "collapsed_sections": [],
      "include_colab_link": true
    }
  },
  "cells": [
    {
      "cell_type": "markdown",
      "metadata": {
        "id": "view-in-github",
        "colab_type": "text"
      },
      "source": [
        "<a href=\"https://colab.research.google.com/github/jcohenadad/ELE8812-signal-processing/blob/main/notebooks/plot_coins_segmentation.ipynb\" target=\"_parent\"><img src=\"https://colab.research.google.com/assets/colab-badge.svg\" alt=\"Open In Colab\"/></a>"
      ]
    },
    {
      "cell_type": "code",
      "metadata": {
        "id": "PFfSmJ5JYqX1"
      },
      "source": [
        "%matplotlib inline"
      ],
      "execution_count": null,
      "outputs": []
    },
    {
      "cell_type": "markdown",
      "metadata": {
        "id": "eMN7WR-nYqX6"
      },
      "source": [
        "<ℹ️ > This notebook is drawn from [scikit-image documentation](https://scikit-image.org/docs/dev/auto_examples/applications/plot_coins_segmentation.html).\n",
        "\n",
        "# Comparing edge-based and region-based segmentation\n",
        "\n",
        "\n",
        "In this example, we will see how to segment objects from a background. We use\n",
        "the ``coins`` image from ``skimage.data``, which shows several coins outlined\n",
        "against a darker background.\n",
        "\n"
      ]
    },
    {
      "cell_type": "code",
      "metadata": {
        "id": "SxMtnXWzYqX6"
      },
      "source": [
        "import numpy as np\n",
        "import matplotlib.pyplot as plt\n",
        "\n",
        "from skimage import data\n",
        "from skimage.exposure import histogram\n",
        "\n",
        "coins = data.coins()\n",
        "hist, hist_centers = histogram(coins)\n",
        "\n",
        "fig, axes = plt.subplots(1, 2, figsize=(8, 3))\n",
        "axes[0].imshow(coins, cmap=plt.cm.gray, interpolation='nearest')\n",
        "axes[0].axis('off')\n",
        "axes[1].plot(hist_centers, hist, lw=2)\n",
        "axes[1].set_title('histogram of gray values')"
      ],
      "execution_count": null,
      "outputs": []
    },
    {
      "cell_type": "markdown",
      "metadata": {
        "id": "qJJjDgUFYqX7"
      },
      "source": [
        "Thresholding\n",
        "============\n",
        "\n",
        "A simple way to segment the coins is to choose a threshold based on the\n",
        "histogram of gray values. Unfortunately, thresholding this image gives a\n",
        "binary image that either misses significant parts of the coins or merges\n",
        "parts of the background with the coins:\n",
        "\n"
      ]
    },
    {
      "cell_type": "code",
      "metadata": {
        "id": "4acBoBSNYqX8"
      },
      "source": [
        "fig, axes = plt.subplots(1, 2, figsize=(8, 3), sharey=True)\n",
        "\n",
        "axes[0].imshow(coins > 100, cmap=plt.cm.gray, interpolation='nearest')\n",
        "axes[0].set_title('coins > 100')\n",
        "\n",
        "axes[1].imshow(coins > 200, cmap=plt.cm.gray, interpolation='nearest')\n",
        "axes[1].set_title('coins > 200')\n",
        "\n",
        "for a in axes:\n",
        "    a.axis('off')\n",
        "\n",
        "plt.tight_layout()"
      ],
      "execution_count": null,
      "outputs": []
    },
    {
      "cell_type": "markdown",
      "metadata": {
        "id": "DmctoONFYqX8"
      },
      "source": [
        "Edge-based segmentation\n",
        "=======================\n",
        "\n",
        "Next, we try to delineate the contours of the coins using edge-based\n",
        "segmentation. To do this, we first get the edges of features using the\n",
        "Canny edge-detector.\n",
        "\n"
      ]
    },
    {
      "cell_type": "code",
      "metadata": {
        "id": "Vn6QpYD-YqX8"
      },
      "source": [
        "from skimage.feature import canny\n",
        "\n",
        "edges = canny(coins)\n",
        "\n",
        "fig, ax = plt.subplots(figsize=(4, 3))\n",
        "ax.imshow(edges, cmap=plt.cm.gray, interpolation='nearest')\n",
        "ax.set_title('Canny detector')\n",
        "ax.axis('off')"
      ],
      "execution_count": null,
      "outputs": []
    },
    {
      "cell_type": "markdown",
      "metadata": {
        "id": "N023fEU1YqX9"
      },
      "source": [
        "These contours are then filled using mathematical morphology.\n",
        "\n"
      ]
    },
    {
      "cell_type": "code",
      "metadata": {
        "id": "nkesIO8oYqX9"
      },
      "source": [
        "from scipy import ndimage as ndi\n",
        "\n",
        "fill_coins = ndi.binary_fill_holes(edges)\n",
        "\n",
        "fig, ax = plt.subplots(figsize=(4, 3))\n",
        "ax.imshow(fill_coins, cmap=plt.cm.gray, interpolation='nearest')\n",
        "ax.set_title('filling the holes')\n",
        "ax.axis('off')"
      ],
      "execution_count": null,
      "outputs": []
    },
    {
      "cell_type": "markdown",
      "metadata": {
        "id": "hacNfxtaYqX9"
      },
      "source": [
        "Small spurious objects are easily removed by setting a minimum size for\n",
        "valid objects.\n",
        "\n"
      ]
    },
    {
      "cell_type": "code",
      "metadata": {
        "id": "eSYpXFNuYqX-"
      },
      "source": [
        "from skimage import morphology\n",
        "\n",
        "coins_cleaned = morphology.remove_small_objects(fill_coins, 21)\n",
        "\n",
        "fig, ax = plt.subplots(figsize=(4, 3))\n",
        "ax.imshow(coins_cleaned, cmap=plt.cm.gray, interpolation='nearest')\n",
        "ax.set_title('removing small objects')\n",
        "ax.axis('off')"
      ],
      "execution_count": null,
      "outputs": []
    },
    {
      "cell_type": "markdown",
      "metadata": {
        "id": "UYMjG03tYqX-"
      },
      "source": [
        "However, this method is not very robust, since contours that are not\n",
        "perfectly closed are not filled correctly, as is the case for one unfilled\n",
        "coin above.\n",
        "\n",
        "Region-based segmentation\n",
        "=========================\n",
        "\n",
        "We therefore try a region-based method using the watershed transform.\n",
        "First, we find an elevation map using the Sobel gradient of the image.\n",
        "\n"
      ]
    },
    {
      "cell_type": "code",
      "metadata": {
        "id": "ElkVWMUoYqX-"
      },
      "source": [
        "from skimage.filters import sobel\n",
        "\n",
        "elevation_map = sobel(coins)\n",
        "\n",
        "fig, ax = plt.subplots(figsize=(4, 3))\n",
        "ax.imshow(elevation_map, cmap=plt.cm.gray, interpolation='nearest')\n",
        "ax.set_title('elevation map')\n",
        "ax.axis('off')"
      ],
      "execution_count": null,
      "outputs": []
    },
    {
      "cell_type": "markdown",
      "metadata": {
        "id": "uUJnPRNmYqX-"
      },
      "source": [
        "Next we find markers of the background and the coins based on the extreme\n",
        "parts of the histogram of gray values.\n",
        "\n"
      ]
    },
    {
      "cell_type": "code",
      "metadata": {
        "id": "EmjTJTX7YqX_"
      },
      "source": [
        "markers = np.zeros_like(coins)\n",
        "markers[coins < 10] = 1\n",
        "markers[coins > 150] = 2\n",
        "\n",
        "fig, ax = plt.subplots(figsize=(4, 3))\n",
        "ax.imshow(markers, cmap=plt.cm.nipy_spectral, interpolation='nearest')\n",
        "ax.set_title('markers')\n",
        "ax.axis('off')"
      ],
      "execution_count": null,
      "outputs": []
    },
    {
      "cell_type": "markdown",
      "metadata": {
        "id": "y658O4pbYqX_"
      },
      "source": [
        "Finally, we use the watershed transform to fill regions of the elevation\n",
        "map starting from the markers determined above:\n",
        "\n"
      ]
    },
    {
      "cell_type": "code",
      "metadata": {
        "id": "bOJ6ExzyYqX_"
      },
      "source": [
        "segmentation = morphology.watershed(elevation_map, markers)\n",
        "\n",
        "fig, ax = plt.subplots(figsize=(4, 3))\n",
        "ax.imshow(segmentation, cmap=plt.cm.gray, interpolation='nearest')\n",
        "ax.set_title('segmentation')\n",
        "ax.axis('off')"
      ],
      "execution_count": null,
      "outputs": []
    },
    {
      "cell_type": "markdown",
      "metadata": {
        "id": "X4uPf-lVYqX_"
      },
      "source": [
        "This last method works even better, and the coins can be segmented and\n",
        "labeled individually.\n",
        "\n"
      ]
    },
    {
      "cell_type": "code",
      "metadata": {
        "id": "sEvJFbzWYqYA"
      },
      "source": [
        "from skimage.color import label2rgb\n",
        "\n",
        "segmentation = ndi.binary_fill_holes(segmentation - 1)\n",
        "labeled_coins, _ = ndi.label(segmentation)\n",
        "image_label_overlay = label2rgb(labeled_coins, image=coins)\n",
        "\n",
        "fig, axes = plt.subplots(1, 2, figsize=(8, 3), sharey=True)\n",
        "axes[0].imshow(coins, cmap=plt.cm.gray, interpolation='nearest')\n",
        "axes[0].contour(segmentation, [0.5], linewidths=1.2, colors='y')\n",
        "axes[1].imshow(image_label_overlay, interpolation='nearest')\n",
        "\n",
        "for a in axes:\n",
        "    a.axis('off')\n",
        "\n",
        "plt.tight_layout()\n",
        "\n",
        "plt.show()"
      ],
      "execution_count": null,
      "outputs": []
    }
  ]
}