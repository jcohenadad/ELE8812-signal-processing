{
  "nbformat": 4,
  "nbformat_minor": 0,
  "metadata": {
    "kernelspec": {
      "display_name": "Python 2",
      "language": "python",
      "name": "python2"
    },
    "language_info": {
      "codemirror_mode": {
        "name": "ipython",
        "version": 2
      },
      "file_extension": ".py",
      "mimetype": "text/x-python",
      "name": "python",
      "nbconvert_exporter": "python",
      "pygments_lexer": "ipython2",
      "version": "2.7.15"
    },
    "colab": {
      "name": "plot_coins_segmentation_modif.ipynb",
      "provenance": [],
      "collapsed_sections": [],
      "include_colab_link": true
    }
  },
  "cells": [
    {
      "cell_type": "markdown",
      "metadata": {
        "id": "view-in-github",
        "colab_type": "text"
      },
      "source": [
        "<a href=\"https://colab.research.google.com/github/jcohenadad/ELE8812-signal-processing/blob/main/notebooks/plot_coins_segmentation_modif.ipynb\" target=\"_parent\"><img src=\"https://colab.research.google.com/assets/colab-badge.svg\" alt=\"Open In Colab\"/></a>"
      ]
    },
    {
      "cell_type": "code",
      "metadata": {
        "id": "14nySsZbaIG0"
      },
      "source": [
        "%matplotlib inline"
      ],
      "execution_count": null,
      "outputs": []
    },
    {
      "cell_type": "markdown",
      "metadata": {
        "id": "Oe893TJmaIG5"
      },
      "source": [
        "\n",
        "# Comparing edge-based and region-based segmentation\n",
        "\n",
        "\n",
        "In this example, we will see how to segment objects from a background. We use\n",
        "the ``coins`` image from ``skimage.data``, which shows several coins outlined\n",
        "against a darker background.\n",
        "\n",
        "This demo is based on [scikit-learn documentation](https://scikit-image.org/docs/stable/auto_examples/applications/plot_coins_segmentation.html).\n"
      ]
    },
    {
      "cell_type": "code",
      "metadata": {
        "id": "RZPYUviBaIG5"
      },
      "source": [
        "import numpy as np\n",
        "import matplotlib.pyplot as plt\n",
        "\n",
        "from skimage import data\n",
        "\n",
        "coins = data.coins()\n",
        "hist = np.histogram(coins, bins=np.arange(0, 256))\n",
        "\n",
        "fig, axes = plt.subplots(1, 2, figsize=(15, 5))\n",
        "axes[0].imshow(coins, cmap=plt.cm.gray, interpolation='nearest')\n",
        "axes[0].axis('off')\n",
        "axes[1].plot(hist[1][:-1], hist[0], lw=2)\n",
        "axes[1].set_title('histogram of gray values')"
      ],
      "execution_count": null,
      "outputs": []
    },
    {
      "cell_type": "markdown",
      "metadata": {
        "id": "nqfsnAoAaIG6"
      },
      "source": [
        "Thresholding\n",
        "============\n",
        "\n",
        "A simple way to segment the coins is to choose a threshold based on the\n",
        "histogram of gray values. Unfortunately, thresholding this image gives a\n",
        "binary image that either misses significant parts of the coins or merges\n",
        "parts of the background with the coins:\n",
        "\n"
      ]
    },
    {
      "cell_type": "code",
      "metadata": {
        "id": "HY3UroAcaIG6"
      },
      "source": [
        "fig, axes = plt.subplots(1, 2, figsize=(15, 5), sharey=True)\n",
        "\n",
        "th_value = 100\n",
        "axes[0].imshow(coins > th_value, cmap=plt.cm.gray, interpolation='nearest')\n",
        "axes[0].set_title('coins > '+str(th_value))\n",
        "\n",
        "th_value = 220\n",
        "axes[1].imshow(coins > th_value, cmap=plt.cm.gray, interpolation='nearest')\n",
        "axes[1].set_title('coins > '+str(th_value))\n",
        "\n",
        "for a in axes:\n",
        "    a.axis('off')\n",
        "\n",
        "plt.tight_layout()"
      ],
      "execution_count": null,
      "outputs": []
    },
    {
      "cell_type": "markdown",
      "metadata": {
        "id": "TBvV_EYEaIG7"
      },
      "source": [
        "Edge-based segmentation\n",
        "=======================\n",
        "\n",
        "Next, we try to delineate the contours of the coins using edge-based\n",
        "segmentation. To do this, we first get the edges of features using the\n",
        "Canny edge-detector.\n",
        "\n"
      ]
    },
    {
      "cell_type": "code",
      "metadata": {
        "id": "X4AW86rvaIG7"
      },
      "source": [
        "from skimage.feature import canny\n",
        "\n",
        "edges = canny(coins)\n",
        "\n",
        "fig, ax = plt.subplots(figsize=(10, 6))\n",
        "ax.imshow(edges, cmap=plt.cm.gray, interpolation='nearest')\n",
        "ax.set_title('Canny detector')\n",
        "ax.axis('off')"
      ],
      "execution_count": null,
      "outputs": []
    },
    {
      "cell_type": "markdown",
      "metadata": {
        "id": "Wmef6QaLaIG7"
      },
      "source": [
        "These contours are then filled using mathematical morphology.\n",
        "\n"
      ]
    },
    {
      "cell_type": "code",
      "metadata": {
        "scrolled": true,
        "id": "i8ttky6SaIG8"
      },
      "source": [
        "from scipy import ndimage as ndi\n",
        "\n",
        "fill_coins = ndi.binary_fill_holes(edges)\n",
        "\n",
        "fig, ax = plt.subplots(figsize=(10, 6))\n",
        "ax.imshow(fill_coins, cmap=plt.cm.gray, interpolation='nearest')\n",
        "ax.set_title('filling the holes')\n",
        "ax.axis('off')"
      ],
      "execution_count": null,
      "outputs": []
    },
    {
      "cell_type": "markdown",
      "metadata": {
        "id": "kLAuE8DxaIG8"
      },
      "source": [
        "Small spurious objects are easily removed by setting a minimum size for\n",
        "valid objects. For more information, see [remove_small_objects](http://scikit-image.org/docs/dev/api/skimage.morphology.html#skimage.morphology.remove_small_objects).\n",
        "\n"
      ]
    },
    {
      "cell_type": "code",
      "metadata": {
        "id": "ifFugqI1aIG8"
      },
      "source": [
        "from skimage import morphology\n",
        "\n",
        "coins_cleaned = morphology.remove_small_objects(fill_coins, 2000)\n",
        "\n",
        "fig, ax = plt.subplots(figsize=(10, 6))\n",
        "ax.imshow(coins_cleaned, cmap=plt.cm.gray, interpolation='nearest')\n",
        "ax.set_title('removing small objects')\n",
        "ax.axis('off')"
      ],
      "execution_count": null,
      "outputs": []
    },
    {
      "cell_type": "markdown",
      "metadata": {
        "id": "rfBTZoUiaIG8"
      },
      "source": [
        "However, this method is not very robust, since contours that are not\n",
        "perfectly closed are not filled correctly, as is the case for one unfilled\n",
        "coin above.\n",
        "\n",
        "Region-based segmentation\n",
        "=========================\n",
        "\n",
        "We therefore try a region-based method using the watershed transform.\n",
        "First, we find an elevation map using the Sobel gradient of the image.\n",
        "\n"
      ]
    },
    {
      "cell_type": "code",
      "metadata": {
        "id": "Smc2O7lnaIG9"
      },
      "source": [
        "from skimage.filters import sobel\n",
        "\n",
        "elevation_map = sobel(coins)\n",
        "\n",
        "fig, ax = plt.subplots(figsize=(10, 6))\n",
        "ax.imshow(elevation_map, cmap=plt.cm.gray, interpolation='nearest')\n",
        "ax.set_title('elevation map')\n",
        "ax.axis('off')"
      ],
      "execution_count": null,
      "outputs": []
    },
    {
      "cell_type": "markdown",
      "metadata": {
        "id": "KoW2nKZ4aIG9"
      },
      "source": [
        "Next we find markers of the background and the coins based on the extreme\n",
        "parts of the histogram of gray values.\n",
        "\n"
      ]
    },
    {
      "cell_type": "code",
      "metadata": {
        "id": "cwspVFP7aIG9"
      },
      "source": [
        "markers = np.zeros_like(coins)\n",
        "markers[coins < 30] = 1\n",
        "markers[coins > 150] = 2\n",
        "\n",
        "fig, ax = plt.subplots(figsize=(10, 6))\n",
        "ax.imshow(markers, cmap=plt.cm.nipy_spectral, interpolation='nearest')\n",
        "ax.set_title('markers')\n",
        "ax.axis('off')"
      ],
      "execution_count": null,
      "outputs": []
    },
    {
      "cell_type": "markdown",
      "metadata": {
        "id": "-Jxjgn1EaIG9"
      },
      "source": [
        "Finally, we use the watershed transform to fill regions of the elevation\n",
        "map starting from the markers determined above:\n",
        "\n"
      ]
    },
    {
      "cell_type": "code",
      "metadata": {
        "id": "Av59_TKMaIG-"
      },
      "source": [
        "segmentation = morphology.watershed(elevation_map, markers)\n",
        "\n",
        "fig, ax = plt.subplots(figsize=(10, 6))\n",
        "ax.imshow(segmentation, cmap=plt.cm.gray, interpolation='nearest')\n",
        "ax.set_title('segmentation')\n",
        "ax.axis('off')"
      ],
      "execution_count": null,
      "outputs": []
    },
    {
      "cell_type": "markdown",
      "metadata": {
        "id": "yOzmsXsFaIG-"
      },
      "source": [
        "This last method works even better, and the coins can be segmented and\n",
        "labeled individually.\n",
        "\n"
      ]
    },
    {
      "cell_type": "code",
      "metadata": {
        "id": "4RZbyJBbaIG-"
      },
      "source": [
        "from skimage.color import label2rgb\n",
        "\n",
        "segmentation = ndi.binary_fill_holes(segmentation - 1)\n",
        "labeled_coins, _ = ndi.label(segmentation)\n",
        "image_label_overlay = label2rgb(labeled_coins, image=coins)\n",
        "\n",
        "fig, axes = plt.subplots(1, 2, figsize=(12, 5), sharey=True)\n",
        "axes[0].imshow(coins, cmap=plt.cm.gray, interpolation='nearest')\n",
        "axes[0].contour(segmentation, [0.5], linewidths=1.2, colors='y')\n",
        "axes[1].imshow(image_label_overlay, interpolation='nearest')\n",
        "\n",
        "for a in axes:\n",
        "    a.axis('off')\n",
        "\n",
        "plt.tight_layout()\n",
        "\n",
        "plt.show()"
      ],
      "execution_count": null,
      "outputs": []
    }
  ]
}