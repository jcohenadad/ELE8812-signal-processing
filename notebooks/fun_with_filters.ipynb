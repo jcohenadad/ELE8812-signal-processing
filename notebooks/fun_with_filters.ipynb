{
  "nbformat": 4,
  "nbformat_minor": 0,
  "metadata": {
    "colab": {
      "name": "fun_with_filters.ipynb",
      "provenance": [],
      "collapsed_sections": []
    },
    "kernelspec": {
      "name": "python3",
      "display_name": "Python 3"
    }
  },
  "cells": [
    {
      "cell_type": "markdown",
      "metadata": {
        "id": "fX1zQ6ilDQVv"
      },
      "source": [
        "# Filter demo\n",
        "\n",
        "This notebook will demonstrate how to build typical image processing filters and how to apply them."
      ]
    },
    {
      "cell_type": "markdown",
      "metadata": {
        "id": "N0QdHDV1zTUk"
      },
      "source": [
        "Import modules and load image"
      ]
    },
    {
      "cell_type": "code",
      "metadata": {
        "id": "e6YdsQLLwjts"
      },
      "source": [
        "import numpy as np\n",
        "import skimage\n",
        "import skimage.filters\n",
        "import scipy.signal\n",
        "import matplotlib.pyplot as plt\n",
        "\n",
        "image = skimage.data.camera()\n",
        "\n",
        "plt.imshow(image)\n",
        "plt.show()"
      ],
      "execution_count": null,
      "outputs": []
    },
    {
      "cell_type": "markdown",
      "metadata": {
        "id": "vd819IbW3kD7"
      },
      "source": [
        "## Prewitt filter"
      ]
    },
    {
      "cell_type": "code",
      "metadata": {
        "id": "DUMFvYcBzRtn"
      },
      "source": [
        "# Define Prewitt filter (along x)\n",
        "prewitt_x = np.array([[-1, 0, 1], [-1, 0, 1], [-1, 0, 1]])\n",
        "\n",
        "# Convolve image with filter\n",
        "# Note: We use mode='same' to keep the same dimension between input and output image.\n",
        "image_prewitt_x = scipy.signal.convolve2d(image, prewitt_x, mode='same')\n",
        "\n",
        "plt.imshow(image_prewitt_x)\n",
        "plt.show()"
      ],
      "execution_count": null,
      "outputs": []
    },
    {
      "cell_type": "markdown",
      "metadata": {
        "id": "kUB67LQh4D7w"
      },
      "source": [
        "We observe that contours oriented vertically are enhanced by this filter."
      ]
    },
    {
      "cell_type": "code",
      "metadata": {
        "id": "5rfGHENT3q1K"
      },
      "source": [
        "# Transpose filter to obtain filter along y\n",
        "prewitt_y = prewitt_x.transpose()\n",
        "\n",
        "# Convolve image with Sobel filter\n",
        "image_prewitt_y = scipy.signal.convolve2d(image, prewitt_y, mode='same')\n",
        "\n",
        "plt.imshow(image_prewitt_y)\n",
        "plt.show()"
      ],
      "execution_count": null,
      "outputs": []
    },
    {
      "cell_type": "markdown",
      "metadata": {
        "id": "qJCNmRsr4ODH"
      },
      "source": [
        "We observe that horizontal contours are enhanced. Now, let's combine both X and Y outputs."
      ]
    },
    {
      "cell_type": "code",
      "metadata": {
        "id": "EaNWeI3E4M0t"
      },
      "source": [
        "# Compute the L2 norm of both images\n",
        "image_prewitt_xy = np.sqrt(np.square(image_prewitt_x) + np.square(image_prewitt_y))\n",
        " \n",
        "# Normalize to 255 (8 bits)\n",
        "image_prewitt_xy *= 255.0 / image_prewitt_xy.max()\n",
        "\n",
        "# Display\n",
        "fig, axes = plt.subplots(ncols=2, sharex=True, sharey=True, figsize=(8, 4))\n",
        "axes[0].imshow(image, cmap=plt.cm.gray)\n",
        "axes[0].set_title('Original image')\n",
        "axes[1].imshow(image_prewitt_xy, cmap=plt.cm.gray)\n",
        "axes[1].set_title('Sobel Filter')\n",
        "for ax in axes:\n",
        "    ax.axis('off')\n",
        "plt.tight_layout()\n",
        "plt.show()"
      ],
      "execution_count": null,
      "outputs": []
    },
    {
      "cell_type": "markdown",
      "metadata": {
        "id": "RlnPyjB79d0U"
      },
      "source": [
        "## Sobel filter\n"
      ]
    },
    {
      "cell_type": "code",
      "metadata": {
        "id": "lU2yn0x39bjs"
      },
      "source": [
        "# Define Sobel filter\n",
        "sobel_x = np.array([[-1, 0, 1], [-2, 0, 2], [-1, 0, 1]])\n",
        "sobel_y = sobel_x.transpose()\n",
        "\n",
        "# Convolve image with filter\n",
        "image_sobel_x = scipy.signal.convolve2d(image, sobel_x, mode='same')\n",
        "image_sobel_y = scipy.signal.convolve2d(image, sobel_y, mode='same')\n",
        "\n",
        "# Compute the L2 norm of both images\n",
        "image_sobel_xy = np.sqrt(np.square(image_sobel_x) + np.square(image_sobel_y))\n",
        "image_sobel_xy *= 255.0 / image_sobel_xy.max()\n",
        "\n",
        "# Compare Prewitt and Sobel\n",
        "image_diff = image_prewitt_xy - image_sobel_xy\n",
        "fig, axes = plt.subplots(ncols=3, sharex=True, sharey=True, figsize=(12, 4))\n",
        "axes[0].imshow(image_prewitt_xy, cmap=plt.cm.gray)\n",
        "axes[0].set_title('Prewitt Filter')\n",
        "axes[1].imshow(image_sobel_xy, cmap=plt.cm.gray)\n",
        "axes[1].set_title('Sobel Filter')\n",
        "axes[2].imshow(image_diff, cmap=plt.cm.gray)\n",
        "axes[2].set_title('Prewitt - Sobel')\n",
        "for ax in axes:\n",
        "    ax.axis('off')\n",
        "plt.tight_layout()\n",
        "plt.show()\n",
        "\n",
        "# Compute min/max difference\n",
        "print('diff_min: {}, diff_max: {}'.\n",
        "      format(image_diff.min(), image_diff.max()))"
      ],
      "execution_count": null,
      "outputs": []
    },
    {
      "cell_type": "markdown",
      "metadata": {
        "id": "AKQAw4FdBQq2"
      },
      "source": [
        "We notice the difference mainly comes from diagonal contours. Also see [Adlakha et al., Analytical Comparison between Sobel and\n",
        "Prewitt Edge Detection Techniques](https://www.ijser.org/researchpaper/Analytical-Comparison-between-Sobel-and-Prewitt-Edge-Detection-Techniques.pdf)."
      ]
    },
    {
      "cell_type": "markdown",
      "metadata": {
        "id": "bc2rEFeNDgkT"
      },
      "source": [
        "## Use scikit-image\n",
        "\n",
        "Most popular filters are already implemented in scikit-image. In general, for production code, it is recommended to use existing open-source implementation because (i) these are widely validated and continuously tested and (ii) there is no point in re-inventing the wheel."
      ]
    },
    {
      "cell_type": "code",
      "metadata": {
        "id": "RrVvIR6WCfXm"
      },
      "source": [
        "# Sobel filtering with scikit-image\n",
        "image_sobel_xy_skimage = skimage.filters.sobel(image)\n",
        "# image_sobel_y = skimage.filters.sobel_v(image)\n",
        "\n",
        "# Compute the L2 norm\n",
        "image_sobel_xy_skimage = np.sqrt(np.square(image_sobel_x) + np.square(image_sobel_y))\n",
        "image_sobel_xy_skimage *= 255.0 / image_sobel_xy_skimage.max()\n",
        "\n",
        "# Compare custom and scikit-image results\n",
        "image_diff = image_sobel_xy - image_sobel_xy_skimage\n",
        "fig, axes = plt.subplots(ncols=3, sharex=True, sharey=True, figsize=(12, 4))\n",
        "axes[0].imshow(image_sobel_xy, cmap=plt.cm.gray)\n",
        "axes[0].set_title('Sobel Filter (custom)')\n",
        "axes[1].imshow(image_sobel_xy_skimage, cmap=plt.cm.gray)\n",
        "axes[1].set_title('Sobel Filter (skimage)')\n",
        "axes[2].imshow(diff_custom_skimage, cmap=plt.cm.gray)\n",
        "axes[2].set_title('Custom - skimage: no difference (phew! 😅 )')\n",
        "for ax in axes:\n",
        "    ax.axis('off')\n",
        "plt.tight_layout()\n",
        "plt.show()\n",
        "print('diff_min: {}, diff_max: {}'.\n",
        "      format(image_diff.min(), image_diff.max()))"
      ],
      "execution_count": null,
      "outputs": []
    },
    {
      "cell_type": "markdown",
      "metadata": {
        "id": "lz0RUNDnHKDi"
      },
      "source": [
        "For more fun with image filters, I recommend the excellent documentation on the [scikit-image website](https://scikit-image.org/)."
      ]
    },
    {
      "cell_type": "code",
      "metadata": {
        "id": "ENcXj2whHT2y"
      },
      "source": [
        ""
      ],
      "execution_count": null,
      "outputs": []
    }
  ]
}