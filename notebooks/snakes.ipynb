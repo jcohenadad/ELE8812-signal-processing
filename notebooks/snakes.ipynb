{
  "nbformat": 4,
  "nbformat_minor": 0,
  "metadata": {
    "kernelspec": {
      "display_name": "Python 2",
      "language": "python",
      "name": "python2"
    },
    "language_info": {
      "codemirror_mode": {
        "name": "ipython",
        "version": 2
      },
      "file_extension": ".py",
      "mimetype": "text/x-python",
      "name": "python",
      "nbconvert_exporter": "python",
      "pygments_lexer": "ipython2",
      "version": "2.7.15"
    },
    "colab": {
      "name": "snakes.ipynb",
      "provenance": [],
      "collapsed_sections": [],
      "include_colab_link": true
    }
  },
  "cells": [
    {
      "cell_type": "markdown",
      "metadata": {
        "id": "view-in-github",
        "colab_type": "text"
      },
      "source": [
        "<a href=\"https://colab.research.google.com/github/jcohenadad/ELE8812-signal-processing/blob/main/notebooks/snakes.ipynb\" target=\"_parent\"><img src=\"https://colab.research.google.com/assets/colab-badge.svg\" alt=\"Open In Colab\"/></a>"
      ]
    },
    {
      "cell_type": "code",
      "metadata": {
        "id": "FbY97OBkzzrS"
      },
      "source": [
        "%matplotlib inline"
      ],
      "execution_count": null,
      "outputs": []
    },
    {
      "cell_type": "markdown",
      "metadata": {
        "id": "hvrMF55GzzrX"
      },
      "source": [
        "# Active Contour (snakes)\n",
        "\n",
        "This notebook is inspired from [scikit-image documentation](https://scikit-image.org/docs/dev/auto_examples/edges/plot_active_contours.html).\n",
        "\n",
        "The active contour model is a method to fit open or closed splines to lines or\n",
        "edges in an image [1]_. It works by minimising an energy that is in part\n",
        "defined by the image and part by the spline's shape: length and smoothness. The\n",
        "minimization is done implicitly in the shape energy and explicitly in the\n",
        "image energy.\n",
        "\n",
        "In the following two examples the active contour model is used (1) to segment\n",
        "the face of a person from the rest of an image by fitting a closed curve\n",
        "to the edges of the face and (2) to find the darkest curve between two fixed\n",
        "points while obeying smoothness considerations. Typically it is a good idea to\n",
        "smooth images a bit before analyzing, as done in the following examples.\n",
        "\n",
        "We initialize a circle around the astronaut's face and use the default boundary\n",
        "condition ``bc='periodic'`` to fit a closed curve. The default parameters\n",
        "``w_line=0, w_edge=1`` will make the curve search towards edges, such as the\n",
        "boundaries of the face.\n",
        "\n",
        ".. [1] *Snakes: Active contour models*. Kass, M.; Witkin, A.; Terzopoulos, D.\n",
        "       International Journal of Computer Vision 1 (4): 321 (1988).\n",
        "       DOI:`10.1007/BF00133570`\n"
      ]
    },
    {
      "cell_type": "code",
      "metadata": {
        "id": "5l_8nU_OzzrX"
      },
      "source": [
        "import numpy as np\n",
        "import matplotlib.pyplot as plt\n",
        "from skimage.color import rgb2gray\n",
        "from skimage import data\n",
        "from skimage.filters import gaussian\n",
        "from skimage.segmentation import active_contour\n",
        "from skimage import io\n",
        "\n",
        "# Fetch image from the internet\n",
        "img = io.imread('https://raw.githubusercontent.com/jcohenadad/ELE8812-signal-processing/main/images/brain_axial.png')\n",
        "\n",
        "# Show image\n",
        "fig, ax = plt.subplots(figsize=(6, 6))\n",
        "ax.imshow(img, cmap=plt.cm.gray)\n",
        "# ax.set_xticks([]), ax.set_yticks([])\n",
        "# ax.axis([0, img.shape[1], img.shape[0], 0])\n",
        "\n",
        "# plt.imshow(image, cmap='gray')\n",
        "# plt.axis('off')\n",
        "# plt.show()\n",
        "\n",
        "# # Load astronaut image\n",
        "# img = data.astronaut()\n",
        "# img = rgb2gray(img)\n",
        "\n",
        "# # Visualize it\n",
        "# fig, ax = plt.subplots(figsize=(7, 7))\n",
        "# ax.imshow(img, cmap=plt.cm.gray)\n",
        "# ax.set_xticks([]), ax.set_yticks([])\n",
        "# ax.axis([0, img.shape[1], img.shape[0], 0])"
      ],
      "execution_count": null,
      "outputs": []
    },
    {
      "cell_type": "code",
      "metadata": {
        "id": "WeZSkhOLzzrY"
      },
      "source": [
        "# Active contour section\n",
        "import time\n",
        "from IPython import display\n",
        "\n",
        "# Draw circle to initialize Snake\n",
        "s = np.linspace(0, 2*np.pi, 400)\n",
        "x = 150 + 20*np.cos(s)\n",
        "y = 180 + 20*np.sin(s)\n",
        "init = np.array([x, y]).T\n",
        "\n",
        "# Launch Snake parameters are:\n",
        "# alpha: Snake length shape parameter. Higher values makes snake contract faster. Default=0.015. Try 0.2, 0.5\n",
        "# beta: Snake smoothness shape parameter. Higher values makes snake smoother. Default=10. Try 200, 5\n",
        "# gamma: Explicit time stepping parameter. Default=0.001. Try with 0.000001, 0.000002, etc.\n",
        "plt.ion()\n",
        "\n",
        "fig, ax = plt.subplots(figsize=(7, 7))\n",
        "hdisplay = display.display(\"\", display_id=True)\n",
        "ax.imshow(img, cmap=plt.cm.gray)\n",
        "ax.plot(init[:, 0], init[:, 1], '--r', lw=3)\n",
        "\n",
        "for i in range(1, 50, 5):\n",
        "  snake = active_contour(gaussian(img, 10),\n",
        "                         init, \n",
        "                         w_line=0,\n",
        "                         w_edge=10,\n",
        "                         alpha=0.0001,\n",
        "                         beta=10, \n",
        "                         gamma=0.001, \n",
        "                         max_iterations=i)\n",
        "\n",
        "  # Display results\n",
        "  ax.plot(snake[:, 0], snake[:, 1], '-g', lw=1)\n",
        "  hdisplay.update(fig)\n",
        "  time.sleep(0.1)\n",
        "  \n",
        "  # ax.set_xticks([]), ax.set_yticks([])\n",
        "  # ax.axis([0, img.shape[1], img.shape[0], 0])"
      ],
      "execution_count": null,
      "outputs": []
    }
  ]
}